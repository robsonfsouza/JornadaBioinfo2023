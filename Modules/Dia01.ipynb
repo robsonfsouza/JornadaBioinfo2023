{
  "cells": [
    {
      "cell_type": "markdown",
      "metadata": {
        "id": "VZpWDT_qK5mE"
      },
      "source": [
        "# Módulo 1: Introdução aos notebooks e ao Unix\n",
        "\n",
        "Bem-vindo ao curso! Existem algumas instruções muito importantes para você seguir:\n",
        "\n",
        "1.) Clique em Arquivo no canto superior esquerdo e selecione Salvar uma cópia no Drive\n",
        "\n",
        "**Suas alterações não serão salvas se você não seguir este passo**\n",
        "\n",
        "2.) Clique no nome do caderno no canto superior esquerdo e substitua \"Cópia de\" pelo seu nome completo\n",
        "\n",
        "**Você estará enviando o arquivo do notebook baixado como prova de conclusão deste módulo**\n"
      ]
    },
    {
      "cell_type": "markdown",
      "metadata": {
        "id": "HkAHdwWUJKoZ"
      },
      "source": [
        "Digite o seguinte:\n",
        "```\n",
        "print(\"Sim, eu concluí o passo 1\") \n",
        "```\n",
        "no bloco de código abaixo e execute clicando no ícone de \"triângulo\"/\"Reproduzir\".\n",
        "\n"
      ]
    },
    {
      "cell_type": "code",
      "execution_count": null,
      "metadata": {
        "id": "lza1ngCWKHbX"
      },
      "outputs": [],
      "source": [
        "#este bloco será verificado"
      ]
    },
    {
      "cell_type": "markdown",
      "metadata": {
        "id": "l166Rx0ZKLqh"
      },
      "source": [
        "Digite o seguinte:\n",
        "```\n",
        "print(\"Sim, eu concluí o passo 2\") \n",
        "```\n",
        "no bloco de código abaixo e execute clicando no ícone de \"triângulo\"/\"Reproduzir\".\n",
        "\n"
      ]
    },
    {
      "cell_type": "code",
      "execution_count": null,
      "metadata": {
        "id": "nsufot4fKS01"
      },
      "outputs": [],
      "source": [
        "#este bloco será verificado"
      ]
    },
    {
      "cell_type": "markdown",
      "metadata": {
        "id": "G7mk1VecOHLQ"
      },
      "source": [
        "# Instalando o Conda\n",
        "O Conda é uma ferramenta versátil de gerenciamento de software. O Conda é um sistema de gerenciamento de ferramentas e bibliotecas de código aberto. Mais informações sobre a biblioteca usada para instalar o Conda no Google Colab podem ser encontradas neste [site](https://inside-machinelearning.com/en/how-to-install-use-conda-on-google-colab/)\n",
        "\n",
        "Observação - seu ambiente de execução será atualizado e reconectado após executar este bloco. Ele exibirá \"falha no ambiente de execução\", isso parece normal, aguarde a sessão reconectar após isso.\n",
        "\n",
        "\n",
        "Você pode conferir este repositório para entender como essa ferramenta funciona:\n",
        "https://github.com/conda-incubator/condacolab \n"
      ]
    },
    {
      "cell_type": "code",
      "execution_count": null,
      "metadata": {
        "id": "jOTBUZ3gOFm3"
      },
      "outputs": [],
      "source": [
        "!pip install -q condacolab\n",
        "import condacolab\n",
        "condacolab.install()"
      ]
    },
    {
      "cell_type": "markdown",
      "metadata": {
        "id": "MY1JBynBfoUT"
      },
      "source": [
        "# Módulo 1 Parte 1 - Introdução aos Notebooks e ao Unix\n",
        "Parte 1 do Módulo 1 começa aqui."
      ]
    },
    {
      "cell_type": "markdown",
      "metadata": {
        "id": "p5SImQk-LGMe"
      },
      "source": [
        "# Python vs Bash\n",
        "## Principais diferenças ao trabalhar no Google Colab\n",
        "\n",
        "\n",
        "As principais diferenças são o uso de ! ao querer executar comandos bash. Não use isso ao querer que o Python execute."
      ]
    },
    {
      "cell_type": "code",
      "execution_count": null,
      "metadata": {
        "id": "dvo4cVYzKyzY"
      },
      "outputs": [],
      "source": [
        "#exemplo de Python\n",
        "print(\"Este é um comando Python\")"
      ]
    },
    {
      "cell_type": "code",
      "execution_count": null,
      "metadata": {
        "id": "1yjkW5M7LbMz"
      },
      "outputs": [],
      "source": [
        "#exemplo de bash\n",
        "!echo \"Este é um comando bash\""
      ]
    },
    {
      "cell_type": "markdown",
      "metadata": {
        "id": "3NH2ZaGwIuqP"
      },
      "source": [
        "Se você esquecer de usar o símbolo !, ocorrerá um erro, pois o Python provavelmente não conseguirá interpretar seu comando bash - tente executar a célula abaixo."
      ]
    },
    {
      "cell_type": "code",
      "execution_count": null,
      "metadata": {
        "colab": {
          "base_uri": "https://localhost:8080/",
          "height": 130
        },
        "id": "HRf3XhgVF1xT",
        "outputId": "c18707cc-9965-4faf-ea01-f576787ac6d9"
      },
      "outputs": [
        {
          "ename": "SyntaxError",
          "evalue": "ignored",
          "output_type": "error",
          "traceback": [
            "\u001b[0;36m  File \u001b[0;32m\"<ipython-input-2-7b2f3893ce2e>\"\u001b[0;36m, line \u001b[0;32m2\u001b[0m\n\u001b[0;31m    echo \"Este é um comando bash\"\u001b[0m\n\u001b[0m                                ^\u001b[0m\n\u001b[0;31mSyntaxError\u001b[0m\u001b[0;31m:\u001b[0m invalid syntax\n"
          ]
        }
      ],
      "source": [
        "#exemplo de esquecimento do ! ao tentar executar um comando bash\n",
        "echo \"Este é um comando bash\""
      ]
    },
    {
      "cell_type": "markdown",
      "metadata": {
        "id": "O1gj_VJ8JRns"
      },
      "source": [
        "Isso criará um erro chamado **\"erro de sintaxe\"** \n",
        "\n",
        "Se você encontrar isso, não se preocupe e verifique se o ! está no lugar. Este curso mostrará principalmente exemplos e solicitará comandos no bash. Observação - Python é uma linguagem poderosa para processamento de dados e, embora não a exploremos neste curso, você pode achar que desenvolver suas habilidades em python e bash é muito útil para seus projetos de bioinformática. \n"
      ]
    },
    {
      "cell_type": "markdown",
      "metadata": {
        "id": "lnarH4fDef7E"
      },
      "source": [
        "# Trabalhando com BASH\n",
        "Este curso fará uso principalmente do BASH para executar comandos e tarefas. Existem alguns exemplos de Python posteriores que são opcionais. As seções a seguir apresentarão os fundamentos do trabalho com BASH e as estruturas de arquivo de um sistema unix\n",
        "\n",
        "Os exemplos a seguir foram feitos por Srikeerthana Kuchi (Univ. Of Glasgow) - https://github.com/WCSCourses/ViralBioinfAsia2022/blob/main/Modules/Intro_to_linux_text_processing.pdf \n"
      ]
    },
    {
      "cell_type": "code",
      "execution_count": null,
      "metadata": {
        "id": "-VDjqQr8jQzF"
      },
      "outputs": [],
      "source": [
        "#Blocos para bash daqui"
      ]
    },
    {
      "cell_type": "code",
      "execution_count": null,
      "metadata": {
        "id": "8FsDUDXAqGXr"
      },
      "outputs": [],
      "source": [
        "%cd /content/\n",
        "!wget https://wcs_data_transfer.cog.sanger.ac.uk/Introduction_to_Linux_Unix_Text_processing.zip ; unzip Introduction_to_Linux_Unix_Text_processing.zip"
      ]
    },
    {
      "cell_type": "markdown",
      "metadata": {
        "id": "6Wqk_GqgF3_l"
      },
      "source": [
        "#Gerenciamento de diretório\n",
        "\n",
        "Diretórios são o equivalente UNIX de pastas em um PC ou Mac. Eles são organizados em uma hierarquia, portanto, os diretórios podem ter subdiretórios e assim por diante. Os diretórios são muito úteis para organizar seu trabalho e manter sua conta organizada - por exemplo, se você tiver mais de um projeto, poderá organizar os arquivos de cada projeto em diferentes diretórios para mantê-los separados. Você pode pensar nos diretórios como cômodos de uma casa. Você só pode estar em uma sala (diretório) por vez. Quando você está em uma sala, pode ver tudo nela facilmente. Para ver as coisas em outras salas, você deve ir até a porta apropriada e virar a cabeça. O UNIX funciona de maneira semelhante, movendo-se de um diretório para outro para acessar os arquivos. O local ou diretório em que você está é chamado de diretório de trabalho atual."
      ]
    },
    {
      "cell_type": "code",
      "execution_count": null,
      "metadata": {
        "id": "4WYbAqPDLicJ"
      },
      "outputs": [],
      "source": [
        "!mkdir new_folder"
      ]
    },
    {
      "cell_type": "code",
      "execution_count": null,
      "metadata": {
        "id": "xPR2qI0_te4o"
      },
      "outputs": [],
      "source": [
        "!touch new_file"
      ]
    },
    {
      "cell_type": "code",
      "execution_count": null,
      "metadata": {
        "id": "qV5T6aAhtjC9"
      },
      "outputs": [],
      "source": [
        "!ls"
      ]
    },
    {
      "cell_type": "markdown",
      "metadata": {
        "id": "cKbx1QwpuWwR"
      },
      "source": [
        "Todos os comandos do Linux são palavras únicas (podem ser alfanuméricas), com parâmetros opcionais seguidos de argumentos. Por razões históricas, alguns dos primeiros comandos têm apenas duas letras e diferenciam maiúsculas de minúsculas. A maioria das opções de comando (também chamadas de sinalizadores) são letras únicas. Eles devem ser especificados após o comando antes de especificar qualquer entrada.\n",
        "\n",
        "“ls” é o comando para listar o conteúdo do diretório, “-l” é a opção para listagem longa e “Exercícios” é a entrada, que neste caso é opcional. Sem a entrada, “ls” mostra o conteúdo do diretório atual (digite “ls -l”)."
      ]
    },
    {
      "cell_type": "code",
      "execution_count": null,
      "metadata": {
        "collapsed": true,
        "id": "iekMN3ypuaHj"
      },
      "outputs": [],
      "source": [
        "!ls -l"
      ]
    },
    {
      "cell_type": "code",
      "execution_count": null,
      "metadata": {
        "id": "RKYP4pFVtjKg"
      },
      "outputs": [],
      "source": [
        "!cat new_file"
      ]
    },
    {
      "cell_type": "code",
      "execution_count": null,
      "metadata": {
        "id": "U9xIGYb2t0mq"
      },
      "outputs": [],
      "source": [
        "#Comandos como 'less' se comportarão de forma estranha no sistema Colab\n",
        "#Você precisará encontrar uma caixa branca na parte inferior da janela da célula e digitar q nela e, em seguida, pressionar enter para interromper a execução desta célula\n",
        "#Isso ocorre porque less é um comando interativo e, para simular a \"tela\" de um terminal Unix, o Colab usa uma célula interativa\n",
        "#Isso também se aplica a outros comandos interativos como vi, nano, vim, etc.\n",
        "#Observação: esta célula não será interrompida automaticamente, fazendo com que outras células esperem e sejam enfileiradas se você não a parar\n",
        "#Você pode parar uma célula clicando no círculo de reprodução/parada ou usando a guia de comandos Runtime\n",
        "!less new_file"
      ]
    },
    {
      "attachments": {},
      "cell_type": "markdown",
      "metadata": {
        "id": "Tm_rGL5Dxu_w"
      },
      "source": [
        "Digitar nomes de arquivo mais longos pode ser chato e é provável que você cometa erros de digitação que, na melhor das hipóteses, farão com que seu comando falhe com um erro estranho e, na pior das hipóteses, sobrescreva algumas de suas análises cuidadosamente elaboradas. A complementação com a tecla TAB é um truque que normalmente reduz significativamente esse risco. Em vez de digitar 'ls Interest_stuff/', tente digitar 'ls Int' e pressione o botão Tab (em vez de Enter). O restante dos nomes de pastas/arquivos que começam com 'Int' devem ser listados. Se você tiver duas pastas/arquivos com nomes semelhantes (por exemplo, my_awesome_scripts/ e my_awesome_results/), talvez seja necessário dar uma mãozinha ao seu terminal para descobrir qual deles você deseja. Nesse caso, se você digitar “ls –l m ”, quando você pressiona Tab, o terminal lê “ls –l my_awesome_”. Você pode digitar “s” seguido de outro pressionamento do botão Tab e descobrir que você quis dizer “my_awesome_scripts/”."
      ]
    },
    {
      "cell_type": "code",
      "execution_count": null,
      "metadata": {
        "id": "PiWjKuEVyCLb"
      },
      "outputs": [],
      "source": [
        "#Pratique com TAB utilizando o código abaixo"
      ]
    },
    {
      "cell_type": "markdown",
      "metadata": {
        "id": "hI8Ld-pDyQvx"
      },
      "source": [
        "# Pontos a considerar\n",
        "\n",
        "* Os comandos do Linux diferenciam maiúsculas de minúsculas e são sempre palavras únicas\n",
        "* As opções seguem o comando - e começam com um único hífen (-) e um caractere ou a\n",
        "hífen duplo (- -) e uma palavra\n",
        "* As opções de um único caractere podem ser combinadas\n",
        "* O argumento pode ser uma ou mais entradas\n",
        "* Você pode escrever mais de um comando separando por ponto e vírgula;\n",
        "Você pode usar a tecla 'tab' para preencher automaticamente o comando.\n",
        "\n",
        "\n",
        "\n"
      ]
    },
    {
      "cell_type": "code",
      "execution_count": null,
      "metadata": {
        "id": "N0R88pMezAMU"
      },
      "outputs": [],
      "source": [
        "ls -l"
      ]
    },
    {
      "cell_type": "markdown",
      "metadata": {
        "id": "tw9LjP_jzFHZ"
      },
      "source": [
        "Dos resultados acima\n",
        "\n",
        "Informações (da esquerda para a direita):\n",
        "* Permissões de arquivo\n",
        "* Número de links\n",
        "* Nome do proprietário\n",
        "* Nome do grupo\n",
        "* Número de bytes\n",
        "* Mês abreviado, data e hora da última modificação\n",
        "* Nome do arquivo/diretório"
      ]
    },
    {
      "cell_type": "markdown",
      "metadata": {
        "id": "aNyBTzGaz4cX"
      },
      "source": [
        "# Outros Comandos Úteis"
      ]
    },
    {
      "attachments": {},
      "cell_type": "markdown",
      "metadata": {
        "id": "4-IjRzZFzbBd"
      },
      "source": [
        "# pwd  → imprimir na tela diretório de trabalho\n",
        "Retorna o caminho do diretório de trabalho atual para a saída padrão.\n"
      ]
    },
    {
      "cell_type": "code",
      "execution_count": null,
      "metadata": {
        "id": "GOC_qoW7zfzq"
      },
      "outputs": [],
      "source": [
        "!pwd"
      ]
    },
    {
      "attachments": {},
      "cell_type": "markdown",
      "metadata": {
        "id": "r83lt8MCzmsK"
      },
      "source": [
        "# cd → mudar diretório\n",
        "\n",
        "Alterar o diretório de trabalho atual para o diretório especificado."
      ]
    },
    {
      "cell_type": "code",
      "execution_count": null,
      "metadata": {
        "id": "eiGcUydo0uSb"
      },
      "outputs": [],
      "source": [
        "!ls"
      ]
    },
    {
      "cell_type": "code",
      "execution_count": null,
      "metadata": {
        "id": "FbKeIZH2zrcZ"
      },
      "outputs": [],
      "source": [
        "%cd new_folder/\n",
        "!pwd"
      ]
    },
    {
      "attachments": {},
      "cell_type": "markdown",
      "metadata": {
        "id": "fEUB41xn2HVP"
      },
      "source": [
        "# mkdir  → Criar Novo Diretório\n",
        "Este comando cria um diretório no diretório de trabalho atual se não existir nenhum diretório com o nome especificado."
      ]
    },
    {
      "cell_type": "code",
      "execution_count": null,
      "metadata": {
        "id": "qrIbxC9d2Hve"
      },
      "outputs": [],
      "source": [
        "!mkdir Test_folder\n",
        "!ls -l"
      ]
    },
    {
      "attachments": {},
      "cell_type": "markdown",
      "metadata": {
        "id": "o6Cf7D3N2H66"
      },
      "source": [
        "# rmdir → Remover diretórios\n",
        "Este comando é usado para remover diretórios. Tente isto abaixo e veja se você pode observar a pasta desaparecendo."
      ]
    },
    {
      "cell_type": "code",
      "execution_count": null,
      "metadata": {
        "id": "_FUa8iOY2IKE"
      },
      "outputs": [],
      "source": [
        "!rmdir Test_folder/\n",
        "!ls -l"
      ]
    },
    {
      "cell_type": "markdown",
      "metadata": {
        "id": "bfUf8akK29xT"
      },
      "source": [
        "# touch\n",
        "É o comando de mudança de carimbo de data/hora do arquivo. No entanto, pode ser usado para criar um arquivo vazio. Esse comando geralmente é usado para verificar se há permissão de gravação para o usuário atual."
      ]
    },
    {
      "cell_type": "code",
      "execution_count": null,
      "metadata": {
        "id": "dScFOBl729-B"
      },
      "outputs": [],
      "source": [
        "!touch temp-file\n",
        "!ls -l"
      ]
    },
    {
      "attachments": {},
      "cell_type": "markdown",
      "metadata": {
        "id": "XX5wr3zu2-I_"
      },
      "source": [
        "# rm  → Remover\n",
        "rm é usado para remover arquivos e diretórios. Tente isto abaixo para remover o arquivo que acabamos de criar."
      ]
    },
    {
      "cell_type": "code",
      "execution_count": null,
      "metadata": {
        "id": "3e_jtT3c2-XD"
      },
      "outputs": [],
      "source": [
        "!rm temp-file\n",
        "!ls -l"
      ]
    },
    {
      "cell_type": "markdown",
      "metadata": {
        "id": "oPqtI7IO3cSm"
      },
      "source": [
        "# POR FAVOR TENHA CUIDADO\n",
        "\n",
        "Lembre-se de que, uma vez que um arquivo ou diretório é excluído, ele não irá para a 'lixeira' no Linux e não há como recuperá-lo."
      ]
    },
    {
      "attachments": {},
      "cell_type": "markdown",
      "metadata": {
        "id": "mFYYI4323sJm"
      },
      "source": [
        "\n",
        "# cp → Copy\n",
        "Copia o conteúdo do arquivo/diretório de origem para o arquivo/diretório de destino. Para copiar diretórios, use a opção “-r”."
      ]
    },
    {
      "cell_type": "code",
      "execution_count": null,
      "metadata": {
        "id": "BgpSHuPJ3sU1"
      },
      "outputs": [],
      "source": [
        " !touch temp1\n",
        " !cp temp1 temp2\n",
        " !ls -l"
      ]
    },
    {
      "attachments": {},
      "cell_type": "markdown",
      "metadata": {
        "id": "PC3h6cUL4C_8"
      },
      "source": [
        "# mv → Mover\n",
        "\n",
        "Para mover/renomear um arquivo ou diretório."
      ]
    },
    {
      "cell_type": "code",
      "execution_count": null,
      "metadata": {
        "id": "Cm8mAcsd4Cku"
      },
      "outputs": [],
      "source": [
        " !mkdir temp\n",
        " !mv temp1 temp/.\n",
        " !mv temp2 temp3\n",
        "!ls -l"
      ]
    },
    {
      "cell_type": "markdown",
      "metadata": {
        "id": "hsUoxgtu4XMk"
      },
      "source": [
        "O segundo comando move o arquivo “temp1” para o diretório “temp”. O “.” (ponto) no final do comando retém o nome do arquivo, enquanto o terceiro comando renomeia o arquivo “temp2” para “temp3”."
      ]
    },
    {
      "cell_type": "markdown",
      "metadata": {
        "id": "yK27MJL14xuG"
      },
      "source": [
        "# Visualizar arquivos"
      ]
    },
    {
      "attachments": {},
      "cell_type": "markdown",
      "metadata": {
        "id": "LLYLZmZp4x9X"
      },
      "source": [
        "# cat → Concatenar\n",
        "O comando concatenar combina arquivos (sequencialmente) e imprime na tela (saída padrão)."
      ]
    },
    {
      "cell_type": "code",
      "execution_count": null,
      "metadata": {
        "id": "MCnSUCb0r4so"
      },
      "outputs": [],
      "source": [
        "!pwd\n"
      ]
    },
    {
      "cell_type": "code",
      "execution_count": null,
      "metadata": {
        "id": "pA--U9Yq4-Xy"
      },
      "outputs": [],
      "source": [
        "!cat /content/Introduction_to_Linux_Unix_Text_processing/SARS-CoV-2.fa"
      ]
    },
    {
      "cell_type": "markdown",
      "metadata": {
        "id": "VrR_apXW5Fqa"
      },
      "source": [
        "# more/less\n",
        "Esses comandos são usados para visualizar o conteúdo dos arquivos; mais rápido com grandes arquivos de entrada do que com editores de texto; nem todo o arquivo é lido no início. Pressione “Enter” para ver mais linhas e “q” para sair do programa\n",
        " "
      ]
    },
    {
      "cell_type": "code",
      "execution_count": null,
      "metadata": {
        "id": "9ziSK7QM5F5I"
      },
      "outputs": [],
      "source": [
        "!more /content/Introduction_to_Linux_Unix_Text_processing/SARS-CoV-2.fa"
      ]
    },
    {
      "cell_type": "markdown",
      "metadata": {
        "id": "krrjHAKj5RSn"
      },
      "source": [
        "# head/tail\n",
        "Esses comandos mostram as primeiras/últimas 10 linhas (padrão) respectivamente de um arquivo."
      ]
    },
    {
      "cell_type": "code",
      "execution_count": null,
      "metadata": {
        "id": "IidONJu75Rh-"
      },
      "outputs": [],
      "source": [
        "!head /content/Introduction_to_Linux_Unix_Text_processing/SARS-CoV-2.gb"
      ]
    },
    {
      "attachments": {},
      "cell_type": "markdown",
      "metadata": {
        "id": "k-GU1-_U5l-w"
      },
      "source": [
        "# Editor de arquivos\n",
        "Existem muitos editores de texto não gráficos como ed, emacs, vi e nano disponíveis na maioria das distribuições Linux. Alguns deles são muito sofisticados (por exemplo, vi) e para usuários avançados.\n",
        "O Nano (anteriormente chamado de pico) é como qualquer editor gráfico sem mouse. Todos os comandos são executados usando o teclado, usando o modificador de tecla <CTRL>. Ele pode ser usado para editar praticamente qualquer tipo de arquivo de texto a partir da linha de comando. Nano sem um nome de arquivo fornece uma janela nano padrão (em branco).\n",
        "Na parte inferior da tela, existem comandos com um símbolo na frente. O símbolo informa que você precisa manter pressionada a tecla Control (Ctrl) e, em seguida, pressionar a letra correspondente ao comando que deseja usar.\n",
        "Ctrl+X sairá do nano e retornará à linha de comando.\n",
        "\n",
        "Referência Rápida do Nano\n",
        "* Ctrl+X: Sair do editor. Se você editou o texto sem salvá-lo, será perguntado se realmente deseja sair.\n",
        "* Ctrl+O: Grava (saída) do conteúdo atual do buffer de texto em um arquivo. Um prompt de nome de arquivo aparecerá; pressione Ctrl+T para abrir o navegador de arquivos mostrado acima.\n",
        "* Ctrl+R: Lê um arquivo de texto na sessão de edição atual. No prompt do nome do arquivo, pressione Ctrl+T: para o navegador de arquivos.\n",
        "* Ctrl+K: Corta uma linha na área de transferência. Você pode pressionar repetidamente para copiar várias linhas, que são armazenadas como um bloco.\n",
        "* Ctrl+J: Justifica (preenche) um parágrafo de texto. Por padrão, isso reflui o texto para corresponder à largura da janela de edição.\n",
        "* Ctrl+U: Cola o texto do “buffer de corte” na linha selecionada. Observe que após uma operação de justificação, isso se torna  não justificado.\n",
        "* Ctrl+T: Verifica a ortografia.\n",
        "* Ctrl+W: Encontre uma palavra ou frase. No prompt, use as teclas do cursor para percorrer os termos de pesquisa anteriores ou pressione Ctrl+R para entrar no modo de substituição. Alternativamente, você pode pressionar Ctrl+T para ir para um linha específica.\n",
        "* Ctrl+C: Mostra o número da linha atual e as informações do arquivo.\n",
        "* Ctrl+G: Obtenha ajuda; fornece informações sobre como navegar pelos arquivos e comandos de teclado comuns\n",
        "\n"
      ]
    },
    {
      "attachments": {},
      "cell_type": "markdown",
      "metadata": {
        "id": "1j39YRNB5pOq"
      },
      "source": [
        "# Obtendo ajuda no Linux\n",
        "Todos os comandos Linux possuem páginas de manual. Para acessá-los, use o comando “man” ou “info”. A página de manual fornece uma explicação detalhada do comando, todas as opções disponíveis e, às vezes, também fornece exemplos. Por exemplo, para visualizar o manual página para o comando “ls”\n",
        "\n",
        "Digite: man ls\n",
        "\n",
        "**Output no terminal:**\n",
        "\n",
        "LS(1) User Commands\n",
        "\n",
        "NOME\n",
        "\n",
        "ls - list directory contents\n",
        "\n",
        "SINOPSE\n",
        "\n",
        "ls [OPTION]... [FILE]...\n",
        "\n",
        "DESCRIÇÃO\n",
        "\n",
        "LS(1)\n",
        "\n",
        "List information about the FILEs (the current directory by default). Sort entries alphabetically if none of -cftuvSUX nor --sort is specified.\n",
        "\n",
        "Mandatory arguments to long options are mandatory for short options too.\n",
        "\n",
        "-a, --all\n",
        "\n",
        "do not ignore entries starting with .\n",
        "\n",
        "-A, --almost-all\n",
        "\n",
        "do not list implied . and ..\n",
        "\n",
        "--author\n",
        "\n",
        "with -l, print the author of each file\n",
        "\n",
        "Please explore manual pages of all the above commands for available options."
      ]
    },
    {
      "cell_type": "code",
      "execution_count": null,
      "metadata": {
        "id": "F3VjYEZ5kART"
      },
      "outputs": [],
      "source": [
        "!man ls"
      ]
    },
    {
      "attachments": {},
      "cell_type": "markdown",
      "metadata": {
        "id": "jvTowcHykchq"
      },
      "source": [
        "# Comandos para processamento de texto"
      ]
    },
    {
      "cell_type": "markdown",
      "metadata": {
        "id": "q97V2_Wtkc0L"
      },
      "source": [
        "**cut**\n",
        "\n",
        "O comando cut é um utilitário de linha de comando para cortar uma seção de um arquivo. Consulte \"man cut\" para ver as opções disponíveis.\n",
        "Para cortar uma seção do arquivo, use \"-c\" (caracteres)"
      ]
    },
    {
      "cell_type": "code",
      "execution_count": null,
      "metadata": {
        "id": "ekXRHGlIkdDP"
      },
      "outputs": [],
      "source": [
        "!cut -c1-10 /content/Introduction_to_Linux_Unix_Text_processing/SARS-CoV-2.fa"
      ]
    },
    {
      "attachments": {},
      "cell_type": "markdown",
      "metadata": {
        "id": "wxIjjGfqku5_"
      },
      "source": [
        "A opção “-c1-10” produzirá os primeiros 10 caracteres do arquivo de entrada.\n",
        "\n",
        "Outras opções:\n",
        "-c: corte com base na posição do caractere\n",
        "\n",
        "-d: corte com base no delimitador\n",
        "\n",
        "-f: número do campo\n",
        "\n",
        "\n",
        "Temos um arquivo chamado “human_viruses.txt” com todos os nomes de vírus, genbank ids e tamanho do genoma. Esses campos são separados por símbolo “|” ."
      ]
    },
    {
      "cell_type": "code",
      "execution_count": null,
      "metadata": {
        "id": "pVQl00KflBcs"
      },
      "outputs": [],
      "source": [
        "!head /content/Introduction_to_Linux_Unix_Text_processing/human_viruses.txt"
      ]
    },
    {
      "cell_type": "markdown",
      "metadata": {
        "id": "37A3OvYxlFJp"
      },
      "source": [
        "Para obter apenas o id do genbank, digite o comando abaixo."
      ]
    },
    {
      "cell_type": "code",
      "execution_count": null,
      "metadata": {
        "id": "Z7BTKK2ClK7w"
      },
      "outputs": [],
      "source": [
        "!cut -d \"|\" -f2 /content/Introduction_to_Linux_Unix_Text_processing/human_viruses.txt"
      ]
    },
    {
      "attachments": {},
      "cell_type": "markdown",
      "metadata": {
        "id": "aBxlKKjQlPFX"
      },
      "source": [
        "**sort**\n",
        "\n",
        "O comando sort é usado para classificar o conteúdo de entrada.\n",
        "\n",
        "\n",
        "Poucas opções:\n",
        "\n",
        "-t: separador de campo\n",
        "\n",
        "-n: Ordenação numérica\n",
        "\n",
        "-k: Classifica com uma chave (campo) \n",
        "\n",
        "-r: Ordenação reversa\n",
        "\n",
        "-u: imprimir entradas únicas"
      ]
    },
    {
      "cell_type": "code",
      "execution_count": null,
      "metadata": {
        "id": "yyF9F03hlY4r"
      },
      "outputs": [],
      "source": [
        "!sort -t \"|\" -nrk6 /content/Introduction_to_Linux_Unix_Text_processing/human_viruses.txt"
      ]
    },
    {
      "attachments": {},
      "cell_type": "markdown",
      "metadata": {
        "id": "XE0b15qUle0Z"
      },
      "source": [
        "**grep**\n",
        "\n",
        "grep pesquisa a entrada para um determinado padrão.\n",
        "\n",
        "Poucas opções:\n",
        "\n",
        "-A: depois do contexto\n",
        "\n",
        "-B: antes do contexto\n",
        "\n",
        "-C: antes e depois do contexto -c: contagem\n",
        "\n",
        "-l: arquivo com correspondência\n",
        "\n",
        "-i: ignorar maiúsculas e minúsculas\n",
        "\n",
        "-o: apenas corresponde \n",
        "\n",
        "-v: inverter correspondência\n",
        "\n",
        "-w: correspondência de palavras\n",
        "\n",
        "\n",
        "Para obter a lista de todos os vírus da hepatite em human_viruses.txt, digite o comando abaixo."
      ]
    },
    {
      "cell_type": "code",
      "execution_count": null,
      "metadata": {
        "id": "EgNQS11elod1"
      },
      "outputs": [],
      "source": [
        "!grep \"Hepatitis\" /content/Introduction_to_Linux_Unix_Text_processing/human_viruses.txt\n"
      ]
    },
    {
      "cell_type": "markdown",
      "metadata": {
        "id": "MQN60dA9lrfV"
      },
      "source": [
        "**wc**\n",
        "\n",
        "O comando “wc” pode ser usado de 2 formas, para contar linhas, palavras ou caracteres."
      ]
    },
    {
      "cell_type": "code",
      "execution_count": null,
      "metadata": {
        "id": "ZgPEG2E_lzoL"
      },
      "outputs": [],
      "source": [
        "!wc -l /content/Introduction_to_Linux_Unix_Text_processing/outbreak.csv"
      ]
    },
    {
      "cell_type": "code",
      "execution_count": null,
      "metadata": {
        "id": "vDNPRtlYl2-u"
      },
      "outputs": [],
      "source": [
        "!cat /content/Introduction_to_Linux_Unix_Text_processing/outbreak.csv | wc -l"
      ]
    },
    {
      "cell_type": "markdown",
      "metadata": {
        "id": "W79G_y1Sl5hg"
      },
      "source": [
        "**uniq**\n",
        "\n",
        "\n",
        "O comando uniq extrai linhas únicas da entrada. Geralmente é usado em combinação com sort para contar valores únicos na entrada.\n",
        "Para obter a lista de países que tiveram um surto em 2022:"
      ]
    },
    {
      "cell_type": "code",
      "execution_count": null,
      "metadata": {
        "id": "M1LxQw2rmUbH"
      },
      "outputs": [],
      "source": [
        "!cut -d, -f3 /content/Introduction_to_Linux_Unix_Text_processing/outbreak.csv | sort | uniq"
      ]
    },
    {
      "cell_type": "markdown",
      "metadata": {
        "id": "9HO9XAdsmo2a"
      },
      "source": [
        "Outros comandos de processamento de texto que vale a pena examinar são: tr, rev, sed e paste."
      ]
    },
    {
      "cell_type": "markdown",
      "metadata": {
        "id": "AlF_ySwGmtWL"
      },
      "source": [
        "# Controle de saída/output no Linux"
      ]
    },
    {
      "cell_type": "markdown",
      "metadata": {
        "id": "hlsBAV5JmtKc"
      },
      "source": [
        "Quando você executa um comando, a saída geralmente é enviada para a saída padrão (stdout), ou seja, o terminal. No entanto, podemos redirecionar a saída padrão para um arquivo usando “>”."
      ]
    },
    {
      "cell_type": "code",
      "execution_count": null,
      "metadata": {
        "id": "BfEZOi1xnHMW"
      },
      "outputs": [],
      "source": [
        "!ls > list\n",
        "!cat list"
      ]
    },
    {
      "cell_type": "markdown",
      "metadata": {
        "id": "3h2RgYxUnLxS"
      },
      "source": [
        "O primeiro comando cria um novo arquivo chamado lista com todos os nomes de arquivo no diretório. Se já existe um arquivo chamado “lista”, ele é substituído pela saída do comando. Em vez disso, podemos anexar a um arquivo usando “ >>” redirecionamento.\n",
        "\n",
        "Outro tipo de saída gerada por programas é o erro padrão. Devemos usar “2>” para redirecioná-lo."
      ]
    },
    {
      "cell_type": "code",
      "execution_count": null,
      "metadata": {
        "id": "Vf6qbH1CnQe5"
      },
      "outputs": [],
      "source": [
        "!ls /foo 2> error"
      ]
    },
    {
      "cell_type": "markdown",
      "metadata": {
        "id": "JpYLn8sVnUH9"
      },
      "source": [
        "Para redirecionar stdout e stderr para um arquivo, use “&>”"
      ]
    },
    {
      "cell_type": "markdown",
      "metadata": {
        "id": "aM3-zZmQnXpK"
      },
      "source": [
        "# Pipes"
      ]
    },
    {
      "attachments": {},
      "cell_type": "markdown",
      "metadata": {
        "id": "BoIkOMprnXyR"
      },
      "source": [
        "Piping no Linux é uma maneira muito poderosa e eficiente de combinar comandos. Pipes (|) no Linux agem como links de conexão entre comandos. Pipe redireciona a saída do primeiro comando como uma entrada para o próximo comando. Podemos aninhar quantos comandos quisermos usando pipes. Eles garantem o bom funcionamento do fluxo de comando e reduzem o tempo de execução.\n",
        "\n",
        "Para imprimir os 10 menores vírus, execute o comando abaixo."
      ]
    },
    {
      "cell_type": "code",
      "execution_count": null,
      "metadata": {
        "id": "hUk3EKpXnn__"
      },
      "outputs": [],
      "source": [
        "!sort -t \"|\" -nk6 /content/Introduction_to_Linux_Unix_Text_processing/human_viruses.txt | head -10"
      ]
    },
    {
      "cell_type": "markdown",
      "metadata": {
        "id": "Db6t0y-unrtf"
      },
      "source": [
        "# Controle de processos"
      ]
    },
    {
      "cell_type": "markdown",
      "metadata": {
        "id": "iZ67Ig7rnziY"
      },
      "source": [
        "Alguns comandos demoram para concluir o trabalho atribuído. Por exemplo, se você deseja compactar um arquivo enorme com o comando gzip que leva alguns minutos para terminar a execução, pode executá-lo em segundo plano anexando o comando com “&” (Outra maneira é suspender um comando pressionando Ctrl+Z e digitando “bg”). A conclusão da tarefa é indicada por “Concluído”."
      ]
    },
    {
      "cell_type": "code",
      "execution_count": null,
      "metadata": {
        "id": "I_90Qp2oo9zt"
      },
      "outputs": [],
      "source": [
        "!gzip list &"
      ]
    },
    {
      "cell_type": "markdown",
      "metadata": {
        "id": "Lq1ow6eopCjk"
      },
      "source": [
        "Podemos obter a lista de trabalhos em execução no terminal pelo comando 'jobs'. Isso fornecerá todos os trabalhos em segundo plano em execução no terminal atual. Se você quiser ver todos os processos em execução no sistema, use 'top'. Você pode obter detalhes específicos do usuário na parte superior usando a opção “-u”.\n"
      ]
    },
    {
      "cell_type": "code",
      "execution_count": null,
      "metadata": {
        "id": "zb91KCGVpF0a"
      },
      "outputs": [],
      "source": [
        "!top"
      ]
    },
    {
      "attachments": {},
      "cell_type": "markdown",
      "metadata": {
        "id": "SaowKoH3pZij"
      },
      "source": [
        "\n",
        "Poucas colunas importantes na saída principal:\n",
        "\n",
        "\n",
        "PID: Id do processo, este é um número único usado para identificar o processo. \n",
        "\n",
        "COMANDO: Nome do Comando\n",
        "\n",
        "\n",
        "S: Status do processo: o status da tarefa que pode ser um dos seguintes:\n",
        "\n",
        "\n",
        "– D = suspensão ininterrupta\n",
        "\n",
        "– R = executando \n",
        "\n",
        "– S = dormindo\n",
        "\n",
        "– T = rastreado ou parado \n",
        "\n",
        "– Z = zumbi\n",
        "\n",
        "Se você deseja interromper um trabalho em segundo plano em execução, use o comando 'kill' seguido pelo ID do processo. \n",
        "\n",
        "kill 1234\n",
        "\n",
        "\n",
        "Este comando elimina o trabalho com o ID de processo 1234. Como usuário, você pode eliminar apenas seus trabalhos. Você não tem permissão para executar este comando nos IDs de processo de outros usuários.\n",
        "\n",
        "\n",
        "Atalhos de linha de comando\n",
        "* Setas para cima/para baixo: comandos anteriores\n",
        "* !!: Executa novamente o comando anterior\n",
        "* Tab: Preenchimento automático\n",
        "* Tab+Tab: Todas as opções disponíveis\n",
        "* Ctrl+a: Move o cursor para o início da linha\n",
        "* Ctrl+e: Move o cursor para o final da linha\n",
        "* Alt+: Alterna entre terminais\n",
        "* Ctrl+l: Limpar tela (ou Command+k no Mac)\n",
        "* Ctrl+c: Encerra o programa em execução\n",
        "* Ctrl+z: Suspende o programa em execução\n",
        "* Ctrl+w: Remove uma palavra anterior\n",
        "* Ctrl+d: Sair\n",
        "* Ctrl+d(em um comando): Remove um caractere\n",
        "* Ctrl+u: Remove até o início"
      ]
    },
    {
      "attachments": {},
      "cell_type": "markdown",
      "metadata": {
        "id": "1IEOrNcBvV-J"
      },
      "source": [
        "\n",
        "# Exercícios:\n",
        "1. Navegue até o diretório de Exercícios: (/content/Introduction_to_Linux_Unix_Text_processing/Exercises)\n",
        "2. Extraia as primeiras 15 linhas do arquivo “HM067743.1_cds_ADQ37313.1_1.fa” e salve a saída em “output.fa”\n",
        "3. Quantos arquivos fasta existem no diretório?\n",
        "4. Extraia todas as linhas de cabeçalho do arquivo all.fa\n",
        "5. Quantas sequências existem no arquivo all.fa?\n",
        "6. Obtenha a lista de países (excluindo surtos em vários países) que tiveram um surto em 2022 (Input: /content/Introduction_to_Linux_Unix_Text_processing/outbreak.csv) \n",
        "7. Encontre o número de surtos (exclua surtos em vários países usando grep de correspondência invertida (-v)) em cada mês de 2022."
      ]
    },
    {
      "cell_type": "code",
      "execution_count": null,
      "metadata": {
        "id": "qLknepLivnJD"
      },
      "outputs": [],
      "source": [
        "#Use este espaço para praticar seu código e responder as perguntas dos exercícios acima. \n",
        "#Sinta-se à vontade para adicionar mais blocos de código, se necessário, usando o botão +Código na parte superior da página."
      ]
    },
    {
      "cell_type": "markdown",
      "metadata": {
        "id": "eem-CyT9GtuK"
      },
      "source": [
        "#Praticar comandos dentro da pasta e dos arquivos\n",
        "\n",
        "Agora, com a pasta montada, você pode praticar alguns dos comandos mostrados anteriormente."
      ]
    },
    {
      "cell_type": "code",
      "execution_count": null,
      "metadata": {
        "id": "qYZLG8yFJedg"
      },
      "outputs": [],
      "source": [
        "# Digite o seu código abaixo"
      ]
    },
    {
      "cell_type": "markdown",
      "metadata": {
        "id": "971FGhBBLjJv"
      },
      "source": [
        "# Questões práticas\n",
        "Responda às seguintes perguntas nos blocos de código abaixo\n",
        "\n",
        "1. Crie um diretório chamado my_new_directory\n",
        "2. Crie um arquivo chamado my_new_file.txt em my_new_directory\n",
        "3. Qual é o caminho absoluto para o recém-criado my_new_file.txt \n",
        "\n"
      ]
    },
    {
      "cell_type": "code",
      "execution_count": null,
      "metadata": {
        "id": "n3o_SjC2L4KG"
      },
      "outputs": [],
      "source": [
        "# 1. Crie um diretório chamado my_new_directory \n",
        "# digite seu código abaixo\n",
        "!mkdir my_new_directory"
      ]
    },
    {
      "cell_type": "code",
      "execution_count": null,
      "metadata": {
        "id": "DcWtwQR8L8jh"
      },
      "outputs": [],
      "source": [
        "# 2. Crie um arquivo chamado my_new_file.txt em my_new_directory\n",
        "# digite seu código abaixo\n",
        "\n"
      ]
    },
    {
      "cell_type": "code",
      "execution_count": null,
      "metadata": {
        "id": "yLfNEOo2MjAk"
      },
      "outputs": [],
      "source": [
        "# 3. Qual é o caminho absoluto para o recém-criado my_new_file.txt \n",
        "# digite seu código abaixo\n"
      ]
    },
    {
      "cell_type": "markdown",
      "metadata": {
        "id": "US37fC5veAwp"
      },
      "source": [
        "# Módulo 1 Parte 2 - Formatos de arquivo NGS e dados e controle de qualidade\n",
        "Esta prática foi adaptada de um curso anterior - [Viral Genomics and Bioformatics Asia, 2022](https://wcscourses.github.io/ViralBioinfAsia2022/). O módulo de formatos de arquivo NGS e componentes de CQ de dados foi criado por [David Studholme ( Univ. de Exeter)](https://biosciences.exeter.ac.uk/staff/profile/index.php?web_id=david_studholme).\n",
        "\n",
        "\n",
        "Este é um módulo geral para ajudá-lo a se familiarizar com os formatos de dados de maneira prática. O CQ de dados e a criação de uma sequência de consenso serão explorados com mais detalhes em módulos posteriores.\n",
        " "
      ]
    },
    {
      "cell_type": "markdown",
      "metadata": {
        "id": "M-U6Z5Z_Fcf5"
      },
      "source": [
        "# Formatos de arquivo comumente usados ​​para dados de sequenciamento de próxima geração (NGS)\n",
        "\n",
        "Nesta sessão, vamos nos familiarizar com vários formatos de arquivo comuns usados ​​para dados de sequência. Em seguida, vamos realizar algum controle de qualidade (QC) em alguns dados de sequência formatados em FASTQ.\n",
        "\n"
      ]
    },
    {
      "cell_type": "markdown",
      "metadata": {
        "id": "LWudfluBWvGD"
      },
      "source": []
    },
    {
      "attachments": {},
      "cell_type": "markdown",
      "metadata": {
        "id": "kGacqX-AGDKt"
      },
      "source": [
        "## FASTA\n",
        "\n",
        "Entre os formatos de arquivo mais comuns e simples para representar sequências de nucleotídeos está o FASTA. Essencialmente, cada sequência é representada por uma linha de 'cabeçalho' que começa com um '>', seguida por linhas contendo a sequência de nucleotídeos real. Por convenção, o primeiro caractere na linha de cabeçalho é um identificador exclusivo, que geralmente é um número de acesso. Considere este exemplo de uma sequência de nucleotídeos formatada em FASTA:\n",
        "\n",
        "    >LC719646.1 Influenza A virus (A/swine/Tottori/B34/2020(H1N1)) segment 8 NS1, NEP genes for nonstructural protein 1, nuclear export protein, complete cds\n",
        "    ATGGAATCCAACACCATGTCAAGCTTTCAGGTAGACTGTTTTCTTTGGCATATTCGCAAGCGATTTGCAG\n",
        "    ACAATGGATTGGGTGATGCCCCATTCCTTGATCGGCTACGCCGAGATCAAAAGTCCTTAAAAGGAAGAGG\n",
        "    CAACACCCTTGGCCTCGACATCAAAACAGCCACTCTTGTTGGGAAACAAATTGTGGAATGGATTTTGAAA\n",
        "    GAGGAATCCAGCGAGACACTTAGAATGGCAATTGCATCTGTACCTACTTCGCGTTACATTTCTGACATGG\n",
        "    CCCTCGAGGAAATGTCACGAGACTGGTTCATGCTTATGCCTAGGCAAAAGATAATAGGCCCTCTTTGCGT\n",
        "    GCGATTGGACCAGGCGGTCATGGATAAGAACGTAGTACTGGAAGCAAACTTCAGTGTAATCTTCAACCGA\n",
        "    TTAGAGACCTTGATACTACTAAGGGCTTTCACTGAGGAGGGAACAATAGTTGGAGAAATTTCACCATTAC\n",
        "    CTTCTCTTCCAGGACATACTTATGAGGATGTCAAAAATGCAGTTGGGGTYCTCATCGGAGGACTTGAGTG\n",
        "    GAATGGTAACACGGTTCGAGTCTCTGAAAATATACAGAGATTCGCTTGGAGAAGCTGTGATGAGAATGGG\n",
        "    AGACCTTCACTACCTCCAGAGCAGAAATGAGAAGTGGCGGGAACAATTGGGACAGAAATTTGAGGAAATA\n",
        "    AGGTGGTTAATTGAAGAAATACGACACAGATTGAAAGCGACAGAGAATAGTTTCGAACAAATAACATTTA\n",
        "    TGCAAGCCTTACAACTACTGCTTGAAGTAGAGCAAGAGATAAGAGCTTTCTCGTTTCAGCTTATTTAA\n",
        "\n",
        "- A primeira linha começa com '>' indicando que é a linha de cabeçalho.\n",
        "- Isso é imediatamente seguido por 'LC719646.1', que é um número de acesso para [esta sequência no banco de dados GenBank](https://www.ncbi.nlm.nih.gov/nuccore/LC719646.1).\n",
        "- Em seguida, segue a sequência de nucleotídeos real, dividida em várias linhas, começando com 'ATGGAATCCAACA...' e terminando com '...TTATTTAA'.\n",
        "\n",
        "É muito comum combinar várias sequências em um único arquivo multi-FASTA como este:\n",
        "\n",
        "    >ON084923.1 Influenza A virus (A/ostriches (Struthio camelus)/Egypt/Mansoura1/2022(H5N8)) segment 4 hemagglutinin, HA2 region, (HA) gene, partial cds\n",
        "    GTACCACCATAGCAATGAGCAGGGGAGTGGGTACGCTGCAGACAAAGAATCCACTCAAAAGGCAATAGAT\n",
        "    GGAGTTACCAATAAGGTCAACTCAATCATTGACAAAATGAACACTCAATTTGAGGCAGTTGGAAGGGAGT\n",
        "    TTAATAACTTAGAAAGGAGGATAGAGAATTTGA\n",
        "    \n",
        "    >MW170960.1 Influenza A virus (A/swine/Italy/410927/2018(H1N2)) segment 6 neuraminidase (NA) gene, partial cds\n",
        "    CCTTATGCAGATTGCTATCCTGGTAACTACTGTTACATTTCACTTCAAGCAATATGAATACAATTTCTAC\n",
        "    CCAAACAACCAAGTAATGCCATGTGAACCAACGATAATTGAAAGAAACATAACAGAAATAGTGTACCTGG\n",
        "    CCAACACCAC\n",
        "    \n",
        "    >MW170083.1 Influenza A virus (A/swine/Italy/134212/2019(H1N2)) segment 6 neuraminidase (NA) gene, partial cds\n",
        "    GTAGTAACTGCCTGAGTCCTAATAATGAAGAAGGGGGTCATGGGGTAAAAGGCTGGGCCTTTGATGATGG\n",
        "    AAATGATGTTTGGATGGGAAGAACGATCAGCGAAAAGTTACGATTAGGTTATGAAACCTTCAAGGTCATC\n",
        "    GACGGTTGGTCCAAGCC\n",
        "    \n",
        "    >MW169741.1 Influenza A virus (A/swine/Italy/8745/2019(H3N2)) segment 2 polymerase PB1 (PB1) gene, partial cds\n",
        "    TCGTTCCATCCTCAATACTAGCCAAAGGGGAATTCTTGAGGATGAGCAAATGTATCAGAAGTGCTGCAAT\n",
        "    TTATTTGAGAAATTCTTCCCTAGCAGTTCATACAGGAGGCCAGTGGGAATTTCAAGCATGGTGGAGGCCA\n",
        "    TGGTATCTAGGGCCAGAATTGATGCACGGATTGATTTCGAGTCTGGAAGGATTAATAAAGAAGAATTTGC\n",
        "    TGAGATCATGAAGATCTGTTCCACCATAGAAGAGTTCAGACGGCAAAAGTAG\n",
        "    \n",
        "    >OM149369.1 Influenza A virus (A/Hilly chicken/Bangladesh/Avian Influenza Virus/2019(H9)) segment 4 hemagglutinin (HA) gene, partial cds\n",
        "    AATTTCTTAGCTAGCAAAATGGAAACAATAACACTGATGACTACACTACTATTAACAACAACGAGCCTTG\n",
        "    CAGACAAAATCTGTATCGGCCACCAATCGACAAATTCTACAGAAACTGTAGACACACTAACAGAAACTAA\n",
        "    CGTTCCTGTGACACATGCCAAAGAGTTGCTCCATACGGATCACAATGGAATGCTGTGTGCAACAAATCTA\n",
        "    GGACATCCCCTCATCCTAGATAAATGTAACGTAGAAGGACTGATCTACGGCAACCCTTCTTGTGATCT\n",
        "\n",
        "\n",
        "Se você quiser um histórico mais detalhado do formato de arquivo FASTA, dê uma olhada na página da Wikipedia aqui: https://en.wikipedia.org/wiki/FASTA_format.\n",
        "\n"
      ]
    },
    {
      "cell_type": "markdown",
      "metadata": {
        "id": "kSrZRbuUGHdJ"
      },
      "source": [
        "## FASTQ\n",
        "O formato de arquivo FASTA amplamente utilizado tem a grande vantagem da simplicidade. No entanto, essa simplicidade pode ser restritiva se quisermos incluir dados/metadados adicionais além da sequência.\n",
        "Dadas as taxas de erro não negligenciáveis das tecnologias NGS, geralmente precisamos acompanhar nossos dados de sequência com pontuações de qualidade que estimam nossa confiança na precisão dos dados de sequência. Como veremos mais adiante, isso nos permite realizar verificações de controle de qualidade e filtre dados de baixa qualidade antes de realizar análises.\n",
        "FASTQ é um formato simples baseado em texto que nos permite incluir pontuações de qualidade. Uma única sequência é representada por quatro linhas de texto:\n",
        "\n",
        "    @ERR8261968.1 1 length=97\n",
        "    ACTTTCGATCTCTTGTAGATCTGTTCTCTAAACGAACTTTAAAATCTGTGTGGCTGTCACTCGGCTGCATGCTTAGTGCACTCACGCAGTATAATTA\n",
        "    +ERR8261968.1 1 length=97\n",
        "    CCCCCFDDFFFFGGGGGGGGGGHHHHHHHHHHHGGGGHHHHHHHHHHHHHHHGHHGHHIIHHGGGGGGHHHHHHHHHHHHHHHHHHHGGGHHHHHHH\n",
        "\n",
        "- A primeira linha é um 'cabeçalho' contendo um identificador único para a sequência e, opcionalmente, uma descrição adicional.\n",
        "- A segunda linha contém a sequência real de nucleotídeos.\n",
        "- A terceira linha é redundante e pode ser ignorada com segurança. Às vezes, ela simplesmente repete a primeira linha. Às vezes, está em branco ou contém apenas um caractere '+'.\n",
        "- A quarta linha contém uma sequência de caracteres que codificam pontuações de qualidade para cada nucleotídeo na sequência. Cada caractere único codifica uma pontuação, geralmente um número entre 0 e 40; essa pontuação é codificada por um único caractere, como vimos durante o palestra introdutória.\n",
        "\n",
        "| Character | ASCII | FASTQ quality score (ASCII – 33) \n",
        "| --|--|--\n",
        "| ! | 33 | 0\n",
        "| “ | 34 | 1\n",
        "| # | 35 | 2\n",
        "| $ | 36 | 3\n",
        "| % | 37 | 4\n",
        "| ... | ... | ...\n",
        "| C | 67 | 34\n",
        "| D | 68 | 35\n",
        "| E | 69 | 36\n",
        "| F | 70 | 37\n",
        "| G | 71 | 38\n",
        "| H | 72 | 39\n",
        "|40 | 73 | 40\n",
        "\n",
        "Assim, no exemplo acima, podemos ver que a maioria das posições dentro da sequência de 97 nucleotídeos tem pontuações na casa dos 30 segundos, o que indica um alto grau de confiança em sua precisão.\n",
        "- Uma pontuação de 30 denota uma chance de erro de 1 em 1.000, ou seja, 99,9% de precisão.\n",
        "- Uma pontuação de 40 indica uma chance de erro de 1 em 10.000, ou seja, 99,99% de precisão.\n",
        "\n",
        "Você pode ler mais sobre o formato de arquivo FastQ e as pontuações de qualidade aqui:\n",
        "Cock, P.J., Fields, C.J., Goto, N., Heuer, M.L., & Rice, P.M. (2010). O formato de arquivo Sanger FASTQ para sequências com pontuações de qualidade e as variantes Solexa/Illumina FASTQ. *Nucleic Acids Research* , **38**, 1767–1771. https://doi.org/10.1093/nar/gkp1137.\n",
        "\n"
      ]
    },
    {
      "attachments": {},
      "cell_type": "markdown",
      "metadata": {
        "id": "80qPmO7hGU2O"
      },
      "source": [
        "## SAM e BAM\n",
        "\n",
        "Um arquivo SAM (geralmente chamado *.sam) é usado para representar sequências alinhadas. É particularmente útil para armazenar os resultados do alinhamento de leituras de sequências genômicas ou transcriptômicas alinhadas contra uma sequência de genoma de referência. O formato de arquivo BAM é uma forma compactada de SAM . Isso tem a desvantagem de não ser legível por um ser humano, mas tem a vantagem de ser menor que o arquivo SAM correspondente e, portanto, mais fácil de compartilhar e copiar entre locais.\n",
        "\n",
        "Você pode ler sobre os formatos SAM e BAM aqui:\n",
        " - Li, H., Handsaker, B., Wysoker, A., Fennell, T., Ruan, J., Homer, N., Marth, G., Abecasis, G., Durbin, R., & 1000 Genome Subgrupo de processamento de dados do projeto (2009). O formato Sequence Alignment/Map e SAMtools. *Bioinformatics*, **25**, 2078–2079. https://doi.org/10.1093/bioinformatics/btp352 e\n",
        "- [https://samtools.github.io/hts-specs/SAMv1.pdf](https://samtools.github.io/hts-specs/SAMv1.pdf).\n",
        "\n",
        "Podemos visualizar arquivos BAM graficamente usando um software de navegador de genoma especializado, como:\n",
        "- [IGV](https://igv.org/)\n",
        "- [Tablet](https://ics.hutton.ac.uk/tablet/)\n",
        "- [Artemis / BAMview](http://sanger-pathogens.github.io/Artemis/BamView/) \n",
        "\n"
      ]
    },
    {
      "attachments": {},
      "cell_type": "markdown",
      "metadata": {
        "id": "rD-S7SZYGmIK"
      },
      "source": [
        "# Repositórios públicos de dados NGS \n",
        "O Sequence Read Archive (SRA) contém um grande número de leituras de sequência geradas por vários métodos NGS. Podemos navegar por esses dados na web por meio do portal da web do NCBI. Também podemos baixar conjuntos de dados NGS no formato FastQ e analisá-los localmente, para exemplo em nossa máquina virtual. Vamos dar uma olhada em um exemplo de conjunto de dados: [SRR19504912](https://www.ncbi.nlm.nih.gov/sra/?term=SRR19504912).\n",
        "\n",
        "De qual vírus vem este conjunto de dados de sequenciamento?\n",
        "\n",
        "Vamos usar a interface da web para dar uma olhada em algumas das leituras de sequência neste conjunto de dados. Clique onde diz [SRR19504912](https://trace.ncbi.nlm.nih.gov/Traces/sra/?run =SRR19504912) em 'Executar'. Em seguida, clique na guia 'Leituras'. Isso o levará a [esta página](https://trace.ncbi.nlm.nih.gov/Traces/index.html?view=run_browser&page_size =10&acc=SRR19504912&display=lês), que se parece com isto:\n",
        "\n",
        "![insira a descrição da imagem aqui](https://github.com/WCSCourses/ViralBioinfAsia2022/raw/main/course_data/NGS_file_formats_and_data_QC/images/Screenshot%202022-07-31%20at%2016.05.10.png)\n",
        "\n",
        "Na figura acima, podemos ver uma única sequência lida junto com as pontuações de qualidade para cada posição de nucleotídeo em sua sequência. Observe que as pontuações são altas (bem acima de 30) para a maior parte dessa sequência lida."
      ]
    },
    {
      "cell_type": "markdown",
      "metadata": {
        "id": "IIwS8vTVGxBS"
      },
      "source": [
        "Agora vamos baixar os dados da sequência (ou seja, todo o conjunto de leituras) desse sequenciamento executado do SRA. Infelizmente, não é fácil baixar os dados diretamente do site do NCBI; em vez disso, temos que usar a ferramenta *fasterq-dump* do [SRA Toolkit do NCBI](https://github.com/ncbi/sra-tools/wiki/01.-Downloading-SRA-Toolkit). Então, primeiro execute este comando no Terminal:"
      ]
    },
    {
      "cell_type": "code",
      "execution_count": null,
      "metadata": {
        "id": "6DNTVUFJeGIb"
      },
      "outputs": [],
      "source": [
        "#Baixe o kit de ferramentas SRA usando wget\n",
        "!wget --output-document sratoolkit.tar.gz https://ftp-trace.ncbi.nlm.nih.gov/sra/sdk/current/sratoolkit.current-ubuntu64.tar.gz\n"
      ]
    },
    {
      "cell_type": "code",
      "execution_count": null,
      "metadata": {
        "id": "UKLrq-RSleFX"
      },
      "outputs": [],
      "source": [
        "#Descompacte o arquivo baixado usando tar \n",
        "#Obs: tar é uma excelente ferramenta para compactar e descompactar arquivos\n",
        "!tar -vxzf sratoolkit.tar.gz"
      ]
    },
    {
      "cell_type": "code",
      "execution_count": null,
      "metadata": {
        "id": "uknpF35Fl19e"
      },
      "outputs": [],
      "source": [
        "#Os comandos a seguir adicionam o kit de ferramentas aos locais esperados onde as ferramentas podem ser encontradas no Colab\n",
        "!export PATH=$PATH:$PWD/sratoolkit.3.0.0-ubuntu64/bin; which fastq-dump\n"
      ]
    },
    {
      "cell_type": "code",
      "execution_count": null,
      "metadata": {
        "id": "qO6Dq3NlmpvG"
      },
      "outputs": [],
      "source": [
        "# Este comando executa uma configuração para usar NCBI SRA para acessar dados, geralmente é executado com uma sessão interativa, mas falha no colab\n",
        "# Este é o comando interativo, causará uma falha de segmentação, mas você deve executar\n",
        "!sratoolkit.3.0.0-ubuntu64/bin/vdb-config --interactive\n"
      ]
    },
    {
      "cell_type": "code",
      "execution_count": null,
      "metadata": {
        "id": "dG_2LPb2K1pd"
      },
      "outputs": [],
      "source": [
        "#Este comando é executado sem o interativo e, de alguma forma, permite que os comandos subsequentes funcionem no colab\n",
        "#OBS: Isso pode não funcionar indefinidamente em colab com ferramentas SRA\n",
        "# Se este comando falhar, você pode usar wget https://wcs_data_transfer.cog.sanger.ac.uk/SRR19504912.zip e descompactar\n",
        "!sratoolkit.3.0.0-ubuntu64/bin/vdb-config"
      ]
    },
    {
      "cell_type": "code",
      "execution_count": null,
      "metadata": {
        "id": "T884Ke5HmD5Z"
      },
      "outputs": [],
      "source": [
        "# Este comando usa a ferramenta fastq-dump para baixar o conjunto de dados SRR19504912\n",
        "!sratoolkit.3.0.0-ubuntu64/bin/fasterq-dump SRR19504912 \n"
      ]
    },
    {
      "cell_type": "markdown",
      "metadata": {
        "id": "6NxMsd0BM-sV"
      },
      "source": [
        "Você deve ver uma saída mais ou menos assim:\n",
        "\n",
        "    spots read      : 306,691\n",
        "    reads read      : 613,382\n",
        "    reads written   : 613,382\n",
        "\n",
        "Você notará que novos arquivos foram criados chamados *SRR19504912_1.fastq* e *SRR19504912_2.fastq*. Existem dois arquivos porque este conjunto de dados consiste em leituras de sequência emparelhada."
      ]
    },
    {
      "cell_type": "code",
      "execution_count": null,
      "metadata": {
        "id": "UUrojusnp7TE"
      },
      "outputs": [],
      "source": [
        "# Agora para instalar duas ferramentas principais - fastqc e trim-galore\n",
        "!conda install -c bioconda fastqc -y\n",
        "!conda install -c bioconda trim-galore"
      ]
    },
    {
      "cell_type": "code",
      "execution_count": null,
      "metadata": {
        "id": "EfeOMtz9qdGz"
      },
      "outputs": [],
      "source": [
        "#Este comando será executado em QUALQUER arquivo fastq no diretório\n",
        "#Só temos dois aqui, mas você pode ter milhares, considere o operador * com cuidado\n",
        "!fastqc *.fastq"
      ]
    },
    {
      "cell_type": "markdown",
      "metadata": {
        "id": "Fi_LJFA1QWDy"
      },
      "source": [
        "Isto irá gerar algumas mensagens como esta:\n",
        "\n",
        "  Análise iniciada de SRR19504912_1.fastq\n",
        "  Aproximadamente 5% concluído para SRR19504912_1.fastq\n",
        "  Aproximadamente 10% concluído para SRR19504912_1.fastq\n",
        "  ...\n",
        "  Aproximadamente 90% concluído para SRR19504912_1.fastq\n",
        "  Aproximadamente 95% concluído para SRR19504912_1.fastq\n",
        "  Análise concluída para SRR19504912_1.fastq\n",
        "  Análise iniciada de SRR19504912_2.fastq\n",
        "  Aproximadamente 5% concluído para SRR19504912_2.fastq\n",
        "  Aproximadamente 10% concluído para SRR19504912_2.fastq\n",
        "  Aproximadamente 15% concluído para SRR19504912_2.fastq\n",
        "  ...\n",
        "  Aproximadamente 90% concluído para SRR19504912_2.fastq\n",
        "  Aproximadamente 95% concluído para SRR19504912_2.fastq\n",
        "  Análise concluída para SRR19504912_2.fastq\n",
        "\n",
        "\n",
        "Agora, execute o comando `ls -lh` e você verá alguns novos arquivos aparecerem:\n"
      ]
    },
    {
      "cell_type": "code",
      "execution_count": null,
      "metadata": {
        "id": "srnDx4tLQX6g"
      },
      "outputs": [],
      "source": [
        "#Execute o comando ls -lh - \n",
        "#O que os operadores -l e -h fazem?\n",
        "!ls -lh"
      ]
    },
    {
      "cell_type": "markdown",
      "metadata": {
        "id": "mjOixXmXPves"
      },
      "source": [
        "Dê uma olhada nas primeiras linhas de cada arquivo executando este comando: \n",
        "```\n",
        "head *.fastq\n",
        "```"
      ]
    },
    {
      "cell_type": "code",
      "execution_count": null,
      "metadata": {
        "id": "twRbrsqosAh6"
      },
      "outputs": [],
      "source": [
        "#Experimente o comando head aqui, tente para ambos, então arquivos individuais\n"
      ]
    },
    {
      "attachments": {},
      "cell_type": "markdown",
      "metadata": {
        "id": "PSOskAWQrC11"
      },
      "source": [
        "Estamos mais interessados nos arquivos HTML, que contêm os relatórios FastQC para nossos dois arquivos fastq. Para visualizar a saída, você precisará baixar e usar o arquivo html. Para fazer isso, clique nos \"três pontos\" que você verá ao passar o mouse sobre o arquivo .html com o ponteiro do mouse e baixá-lo, em seguida, abra seu download em um navegador \n",
        "\n",
        "![Screenshot 2022-10-24 at 16.48.48.png](data:image/png;base64,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)"
      ]
    },
    {
      "cell_type": "markdown",
      "metadata": {
        "id": "qbMjm0Z-RBh1"
      },
      "source": [
        "Você deve ver algo assim:\n",
        "\n",
        "![enter image description here](https://github.com/WCSCourses/ViralBioinfAsia2022/raw/main/course_data/NGS_file_formats_and_data_QC/images/Screenshot%202022-07-31%20at%2015.28.02.png)\n",
        "\n",
        "Observe que há duas guias no navegador Firefox; há uma para o relatório QC para *SRR19504912_1.fastq* e outra para *SRR19504912_2.fastq*.\n",
        "\n",
        "Há muitas informações de controle de qualidade nesses relatórios. Sinta-se à vontade para explorá-las em seu próprio tempo e dê uma olhada na página inicial do FastQC em https://www.bioinformatics.babraham.ac.uk/projects/fastqc/ e veja o vídeo tutorial em http://www.youtube.com/watch?v=bz93ReOv87Y.\n",
        "\n",
        "Por enquanto, vamos apenas olhar\n",
        "- Estatísticas básicas\n",
        "- Qualidade da sequência por base \n",
        "- Conteúdo do adaptador"
      ]
    },
    {
      "attachments": {},
      "cell_type": "markdown",
      "metadata": {
        "id": "j5esVvTPRN7G"
      },
      "source": [
        "### Questões:\n",
        "\n",
        " - Quantas leituras de sequência existem? Sua resposta corresponde à sua\n",
        " resposta anterior (baseada em `wc -l`) ?\n",
        " - Com relação aos índices de qualidade, qual dos dois arquivos possui dados de melhor qualidade: *SRR19504912_1.fastq* ou *SRR19504912_2.fastq* ?\n",
        " - Esses conjuntos de dados estão contaminados com algum oligonucleotídeo adaptador de sequenciamento Illumina?\n",
        "\n"
      ]
    },
    {
      "cell_type": "markdown",
      "metadata": {
        "id": "bplC-_AhRU_5"
      },
      "source": [
        "Adicione suas respostas às perguntas aqui: (clique duas vezes em um bloco de texto para editar) \n",
        "\n",
        "Leituras de sequência:\n",
        "\n",
        "Qualidade:\n",
        "\n",
        "Contaminação:"
      ]
    },
    {
      "attachments": {},
      "cell_type": "markdown",
      "metadata": {
        "id": "Ugyug1QjRu_5"
      },
      "source": [
        "## Corte e filtragem para remover dados de baixa qualidade\n",
        "\n",
        "Ao inspecionar os relatórios FastQC, você provavelmente notou que *SRR19504912_1.fastq* e *SRR19504912_2.fastq* incluem algumas leituras de sequência que contêm pontuações de qualidade muito baixas e algumas leituras derivadas dos adaptadores Illumina em vez do nucleotídeo viral alvo sequências. Agora, veremos como podemos remover dados ruins e contaminação cortando e filtrando. Usaremos [TrimGalore](https://www.bioinformatics.babraham.ac.uk/projects/trim_galore/) executando o seguinte comando:"
      ]
    },
    {
      "cell_type": "code",
      "execution_count": null,
      "metadata": {
        "id": "sIok1rkfRuQf"
      },
      "outputs": [],
      "source": [
        "!trim_galore -q 25 --length 50 --paired SRR19504912_1.fastq SRR19504912_2.fastq"
      ]
    },
    {
      "cell_type": "markdown",
      "metadata": {
        "id": "ZYEda6PYR9a1"
      },
      "source": [
        "Agora, ao listar o conteúdo do diretório com ls -lh, você notará dois novos arquivos chamados SRR19504912_1_val_1.fq e SRR19504912_2_val_2.fq. Essas são as versões cortadas e filtradas dos arquivos originais SRR19504912_1.fastq e SRR19504912_2.fastq . Agora, vamos executar o FastQC nesses dois novos arquivos 'limpos':\n"
      ]
    },
    {
      "cell_type": "code",
      "execution_count": null,
      "metadata": {
        "id": "AJSbx8ddSCjX"
      },
      "outputs": [],
      "source": [
        "#executar o comando ls -lh"
      ]
    },
    {
      "cell_type": "code",
      "execution_count": null,
      "metadata": {
        "id": "Nej6LHUfSYVa"
      },
      "outputs": [],
      "source": [
        "#Execute fastqc *.fq\n",
        "!fastqc *.fq\n"
      ]
    },
    {
      "cell_type": "markdown",
      "metadata": {
        "id": "AHlwUuBgSgQF"
      },
      "source": [
        "Isso criará relatórios QC, em formato HTML, para os arquivos FASTQ limpos. Agora vamos dar uma olhada nesses arquivos como você fez anteriormente, baixando o arquivo html e abrindo-o em um navegador"
      ]
    },
    {
      "cell_type": "markdown",
      "metadata": {
        "id": "TFHy27CPS6Qn"
      },
      "source": [
        "### Perguntas:\n",
        "\n",
        " - Quantas leituras foram removidas pelo TrimGalore de cada arquivo FASTQ?\n",
        " - Que impacto TrimGalore teve sobre os comprimentos das leituras de sequência?\n",
        " - Que impacto o TrimGalore teve sobre a contaminação do adaptador?\n",
        " - O TrimGalore alterou a distribuição dos índices de qualidade?\n",
        "\n",
        " Você pode ler mais sobre TrimGalore em https://www.bioinformatics.babraham.ac.uk/projects/trim_galore/.\n",
        "\n",
        "Parabéns por chegar ao final desta sessão! Agora você deve estar familiarizado com alguns dos formatos de arquivo mais comuns usados na análise de dados NGS e saber como acessar e executar alguns QC básicos em conjuntos de dados de leituras de sequência NGS.\n"
      ]
    },
    {
      "cell_type": "markdown",
      "metadata": {
        "id": "vkaiiVNeS8Ru"
      },
      "source": [
        "Responda aqui as perguntas:\n",
        "\n",
        " - Quantas leituras foram removidas pelo TrimGalore de cada arquivo FASTQ?\n",
        "\n",
        " - Que impacto TrimGalore teve sobre os comprimentos das leituras de sequência?\n",
        "\n",
        " - Que impacto o TrimGalore teve sobre a contaminação do adaptador?\n",
        "\n",
        " - O TrimGalore alterou a distribuição dos índices de qualidade?\n",
        "\n"
      ]
    },
    {
      "cell_type": "markdown",
      "metadata": {
        "id": "UbQrYRNJTNa6"
      },
      "source": [
        "### Bonus!\n",
        "\n",
        "#### E se você tivesse um grande número de relatórios FastQC para analisar?\n",
        "\n",
        "Multiqc (https://multiqc.info/) é uma ferramenta que resume diferentes tipos de relatórios NGS (não apenas FastQC).\n",
        "\n",
        "Primeiro, instale a ferramenta:\n",
        "\n",
        " pip install multiqc\n",
        "\n",
        "Na pasta com relatórios, execute:\n",
        "\n",
        " multiqc .\n",
        "\n",
        "Veja o relatório resumido em um navegador - multiqc_report.html\n"
      ]
    },
    {
      "cell_type": "code",
      "execution_count": null,
      "metadata": {
        "id": "PCKTeVHyTRw6"
      },
      "outputs": [],
      "source": [
        "#Experimente os comandos bônus aqui e abaixo :-D \n",
        "!pip install multiqc"
      ]
    },
    {
      "cell_type": "code",
      "execution_count": null,
      "metadata": {
        "id": "5Uox0TIBTXxk"
      },
      "outputs": [],
      "source": [
        "!multiqc ."
      ]
    },
    {
      "cell_type": "markdown",
      "metadata": {
        "id": "BCNxKXr6eo4F"
      },
      "source": [
        "## **Créditos:**\n",
        "Progress Dube\n",
        "\n",
        "Marcela Suarez Esquivel\n",
        "\n",
        "Leigh Jackson\n",
        "\n",
        "Srikeerthana Kuchi (Intro to Unix Commands)\n",
        "\n",
        "David Studholme  (Introduction to NGS formats and QC)\n",
        "\n",
        "COG-Train\n",
        "Wellcome Connection Science"
      ]
    },
    {
      "cell_type": "markdown",
      "metadata": {
        "id": "cKkTmyARj-MC"
      },
      "source": [
        "#Introdução as strings no Python\n",
        "(Para lição de casa extra)\n",
        "\n",
        "Uma string é uma série de caracteres. Em Python, qualquer coisa entre aspas é uma string. E você pode usar aspas simples ou duplas\n",
        "O texto abaixo combina código e texto para alguns esclarecimentos. O programa diferencia o texto do código, colocando um símbolo # na frente do texto. Isso significa que o texto não será lido pelo programa como um comando. \n"
      ]
    },
    {
      "cell_type": "code",
      "execution_count": null,
      "metadata": {
        "id": "dhdOtyHZj_4m"
      },
      "outputs": [],
      "source": [
        "s = ('Isto é uma string') #E foi atribuído a uma variável chamada 's'\n",
        "\n",
        "('Isto também é uma string') #No entanto, esta string NÃO foi atribuída a uma variável, impressa na tela ou gravada em um arquivo de saída\n",
        "# Então, realmente não serve para nada\n",
        "# É um código inutilizado\n",
        "\n",
        "# Para enviar o conteúdo da string para a tela (ou seja, janela do terminal), use o comando 'print'\n",
        "\n",
        "print (\"s\")\n",
        "\n",
        "# Você também pode imprimir strings diretamente, sem atribuí-los a uma variável primeiro\n",
        "print ('Isto também é uma string')\n",
        "print (\"Esta é uma string entre aspas duplas\") # Aspas simples e duplas são intercambiáveis ​​em Python, ambas podem ser usadas para criar strings\n",
        "\n",
        "# As aspas triplas podem ser usadas para gerar strings de várias linhas\n",
        "print (\"\"\"Esta string abrange\n",
        "várias linhas\"\"\")\n",
        "\n",
        "#No entanto, o mesmo pode ser feito usando a notação \\n\n",
        "print (\"Esta string abrange\\nvárias linhas\")\n",
        "\n",
        "# Em Python, strings são imutáveis, o que significa que não podem ser alteradas\n",
        "alfa = (\"abcdefghijklmnop\")\n",
        "\n",
        "# Portanto, você não pode adicionar diretamente o restante do alfabeto na string atualmente atribuída à variável alpha\n",
        "# No entanto, você pode reatribuir nomes de variáveis a versões alteradas de strings\n",
        "\n",
        "alpha = (alpha + \"qrstuvwxyz\") #Eu sei...é uma distinção sutil, mas se tornará importante mais tarde\n",
        "#A declaração acima pode parecer um pouco estranha porque estamos usando e reatribuindo a variável alpha na mesma linha\n",
        "#No entanto, isso funciona porque a instrução à direita de \"=\" é avaliada ANTES de a variável ser reatribuída\n",
        "print (alfa)"
      ]
    }
  ],
  "metadata": {
    "colab": {
      "collapsed_sections": [],
      "provenance": []
    },
    "kernelspec": {
      "display_name": "Python 3",
      "name": "python3"
    },
    "language_info": {
      "name": "python"
    }
  },
  "nbformat": 4,
  "nbformat_minor": 0
}
