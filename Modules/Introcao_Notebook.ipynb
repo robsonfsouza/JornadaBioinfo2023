{
  "nbformat": 4,
  "nbformat_minor": 0,
  "metadata": {
    "colab": {
      "provenance": [],
      "collapsed_sections": []
    },
    "kernelspec": {
      "name": "python3",
      "display_name": "Python 3"
    },
    "language_info": {
      "name": "python"
    }
  },
  "cells": [
    {
      "cell_type": "markdown",
      "source": [
        "# Notebook de Introdução\n",
        "\n",
        "Bem-vindo ao curso! Existem algumas instruções muito importantes que você deve seguir:\n",
        "\n",
        "1.) Clique em 'Arquivo' no canto superior esquerdo e selecione 'Salvar uma cópia no Drive'\n",
        "\n",
        "**Suas alterações não serão salvas se você não fizer este passo**\n",
        "\n",
        "2.) Clique no nome do notebook no canto superior esquerdo e substitua 'Cópia de' pelo seu nome completo\n",
        "\n",
        "**Você enviará o arquivo do notebook baixado como prova de conclusão deste módulo**\n"
      ],
      "metadata": {
        "id": "VZpWDT_qK5mE"
      }
    },
    {
      "cell_type": "markdown",
      "source": [
        "Digite o seguinte: \n",
        "```\n",
        "print(\"Sim, concluí a etapa 1\") \n",
        "```\n",
        "no bloco de código abaixo e execute clicando no ícone \"triângulo\"/\"Executar\" nesse bloco \n",
        "\n"
      ],
      "metadata": {
        "id": "HkAHdwWUJKoZ"
      }
    },
    {
      "cell_type": "code",
      "source": [
        "#este bloco será verificado"
      ],
      "metadata": {
        "id": "lza1ngCWKHbX"
      },
      "execution_count": null,
      "outputs": []
    },
    {
      "cell_type": "markdown",
      "source": [
        "Digite o seguinte: \n",
        "```\n",
        "print(\"Sim, concluí a etapa 2\") \n",
        "```\n",
        "no bloco de código abaixo e execute clicando no ícone \"triângulo\"/\"Executar\" nesse bloco \n",
        "\n"
      ],
      "metadata": {
        "id": "l166Rx0ZKLqh"
      }
    },
    {
      "cell_type": "code",
      "source": [
        "#este bloco será verificado"
      ],
      "metadata": {
        "id": "nsufot4fKS01"
      },
      "execution_count": null,
      "outputs": []
    },
    {
      "cell_type": "markdown",
      "source": [
        "# Instalando o Conda\n",
        "O Conda é uma ferramenta versátil de gerenciamento de software. O Conda é um sistema de código aberto para gerenciar ferramentas e bibliotecas. Mais informações sobre a biblioteca usada para instalar o Conda no Google Colab podem ser encontradas neste [site](https://inside-machinelearning.com/en/how-to-install-use-conda-on-google-colab/)\n",
        "\n",
        "Observação - o ambiente de execução será atualizado e reconectado após a execução deste comando. Pode parecer que ocorreu uma falha no ambiente de execução, mas isso é normal. Aguarde a reconexão da sessão após isso.\n",
        "\n",
        "\n",
        "Você pode conferir este repositório para saber como essa ferramenta funciona:\n",
        "https://github.com/conda-incubator/condacolab \n"
      ],
      "metadata": {
        "id": "G7mk1VecOHLQ"
      }
    },
    {
      "cell_type": "code",
      "source": [
        "!pip install -q condacolab\n",
        "import condacolab\n",
        "condacolab.install()"
      ],
      "metadata": {
        "id": "jOTBUZ3gOFm3"
      },
      "execution_count": null,
      "outputs": []
    },
    {
      "cell_type": "markdown",
      "source": [
        "# Pratique alguns comandos em bash ou python\n",
        "\n",
        "Lembre-se de que este curso usará principalmente o bash - verifique os caracteres iniciais \"!\""
      ],
      "metadata": {
        "id": "SneaO7ArlUMU"
      }
    },
    {
      "cell_type": "code",
      "source": [
        "# bash é ótimo, não se esqueça do !\n",
        "!echo \"olá mundo\""
      ],
      "metadata": {
        "id": "i6Wk6e6klSnh"
      },
      "execution_count": null,
      "outputs": []
    },
    {
      "cell_type": "code",
      "source": [
        "#python é o padrão \n",
        "print(\"Olá mundo\")"
      ],
      "metadata": {
        "id": "EX47x3Iilmm2"
      },
      "execution_count": null,
      "outputs": []
    },
    {
      "cell_type": "markdown",
      "source": [
        "# Experimente usar o gerenciador de arquivos com o ícone de pasta à esquerda:\n",
        "Tente criar uma pasta ou um arquivo clicando com o botão direito no espaço de arquivos à esquerda.\n",
        "Em seguida, tente criar um usando um comando!"
      ],
      "metadata": {
        "id": "Fry1n5nVl0XF"
      }
    },
    {
      "cell_type": "code",
      "source": [
        "#crie uma pasta com um comando\n",
        "!mkdir nova_pasta"
      ],
      "metadata": {
        "id": "OJHDGLHllzk8"
      },
      "execution_count": 4,
      "outputs": []
    },
    {
      "cell_type": "markdown",
      "source": [
        "# Eu tenho esse espaço de armazenamento para sempre? \n",
        "Execute o comando abaixo:"
      ],
      "metadata": {
        "id": "RTxjogMxmMy1"
      }
    },
    {
      "cell_type": "code",
      "source": [
        "!echo \"infelizmente não...\"; sleep 5; echo \"você só tem acesso por 12 horas por dia\""
      ],
      "metadata": {
        "id": "TBEXoPdxmLyO"
      },
      "execution_count": null,
      "outputs": []
    },
    {
      "cell_type": "markdown",
      "source": [
        "# Então, como salvar trabalhos ou resultados importantes? \n",
        "O notebook será salvo automaticamente se você seguir os dois primeiros passos! Você pode repetir todo o trabalho clicando nas células ou executando tudo novamente. \n",
        "\n",
        "Os dados podem ser baixados para o seu computador local!\n",
        "\n",
        "Você também pode vincular sua conta do Google Drive a isso para mover arquivos para lá (as limitações de armazenamento se aplicam!)"
      ],
      "metadata": {
        "id": "-qtzGaOBnKU3"
      }
    },
    {
      "cell_type": "markdown",
      "source": [
        "# Lembre-se sempre de:\n",
        "(execute a célula abaixo para receber um lembrete)"
      ],
      "metadata": {
        "id": "Vyv7uvXhoRou"
      }
    },
    {
      "cell_type": "code",
      "source": [
        "# Lembre-se sempre de:\n",
        "!echo \"FAÇA OS DOIS PRIMEIROS PASSOS - SALVAR E RENOMEAR\"; sleep 2; echo \"experimente coisas novas\"; sleep 2; echo \"aprenda enquanto avança\"; sleep 2; echo \"e divirta-se!\""
      ],
      "metadata": {
        "id": "5iQVAGcQn0dC"
      },
      "execution_count": null,
      "outputs": []
    }
  ]
}
